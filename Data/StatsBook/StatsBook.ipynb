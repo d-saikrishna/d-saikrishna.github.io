{
 "cells": [
  {
   "cell_type": "markdown",
   "id": "65687e2f",
   "metadata": {},
   "source": [
    "# Stats Notebook\n",
    "A collection of all my learnings in Statistics"
   ]
  },
  {
   "cell_type": "markdown",
   "id": "4a569e62",
   "metadata": {},
   "source": [
    "# Table of Contents\n",
    "1. [Expected Value](#expectedvalue1)"
   ]
  },
  {
   "cell_type": "markdown",
   "id": "702a1d51",
   "metadata": {},
   "source": [
    "## Expected Value <a class=\"anchor\" id=\"expectedvalue1\"></a>\n",
    "\n",
    "Gopi and Ravi are betting on a game of dice. \n",
    "1. Gopi would get 10 rupees if dice cast less than or equal to 3\n",
    "2. Ravi would get 20 rupees if dice cast less than or equal to 2\n",
    "\n",
    "Who took a better decision?\n",
    "\n",
    "**Expected gains for Gopi**:\n",
    "\n",
    "$E(G) = p(dice<=3)*10 = [p(1) + p(2) + p(3)]*10$\n",
    "\n",
    "$E(G) = [3/6]*10 = 5 Rupees$\n",
    "\n",
    "**Expected gains for Ravi**:\n",
    "\n",
    "$E(R) = p(dice<=2)*20 = [p(1) + p(2)]*20$\n",
    "\n",
    "$E(R) = [2/6]*20 = 6.67 Rupees$\n",
    "\n",
    "Ravi can earn more from the game than Gopi"
   ]
  },
  {
   "cell_type": "code",
   "execution_count": 5,
   "id": "b929dda9-8f0c-4a2b-84e7-0e2cdba4a1b5",
   "metadata": {},
   "outputs": [
    {
     "data": {
      "text/plain": [
       "0.5035943748029883"
      ]
     },
     "execution_count": 5,
     "metadata": {},
     "output_type": "execute_result"
    }
   ],
   "source": [
    "0.645 - 3.291*(0.47846441852230087/11.1355287257)"
   ]
  },
  {
   "cell_type": "code",
   "execution_count": 9,
   "id": "897f5997-9e57-44fb-a4d4-ebdc60633e3d",
   "metadata": {},
   "outputs": [],
   "source": [
    "p = 80/124"
   ]
  },
  {
   "cell_type": "code",
   "execution_count": 7,
   "id": "43af702b-5364-4301-9a6d-84981d6131eb",
   "metadata": {},
   "outputs": [
    {
     "data": {
      "text/plain": [
       "0.3548387096774194"
      ]
     },
     "execution_count": 7,
     "metadata": {},
     "output_type": "execute_result"
    }
   ],
   "source": [
    "1-0.6451612903225806\n"
   ]
  },
  {
   "cell_type": "code",
   "execution_count": 8,
   "id": "018d28e6-c174-4825-bd20-dbe3e21f9e33",
   "metadata": {},
   "outputs": [],
   "source": [
    "import math"
   ]
  },
  {
   "cell_type": "code",
   "execution_count": 13,
   "id": "5f3f2181-0269-465f-9b92-6e683e0d9031",
   "metadata": {},
   "outputs": [],
   "source": [
    "std = math.sqrt(p*(1-p))"
   ]
  },
  {
   "cell_type": "code",
   "execution_count": 15,
   "id": "aa0eb6aa-abe7-4250-9537-8aa0243bfe5d",
   "metadata": {},
   "outputs": [
    {
     "data": {
      "text/plain": [
       "0.04296737319888154"
      ]
     },
     "execution_count": 15,
     "metadata": {},
     "output_type": "execute_result"
    }
   ],
   "source": [
    "std/math.sqrt(124)"
   ]
  },
  {
   "cell_type": "code",
   "execution_count": 12,
   "id": "f3cd0570-544c-4a00-b61e-70f40111eedb",
   "metadata": {},
   "outputs": [
    {
     "data": {
      "text/plain": [
       "80.0"
      ]
     },
     "execution_count": 12,
     "metadata": {},
     "output_type": "execute_result"
    }
   ],
   "source": [
    "124*p"
   ]
  },
  {
   "cell_type": "code",
   "execution_count": 18,
   "id": "d37858b4-ce5d-4979-b7e6-eb7cbfa7d8fd",
   "metadata": {},
   "outputs": [
    {
     "data": {
      "text/plain": [
       "5.225806451612903"
      ]
     },
     "execution_count": 18,
     "metadata": {},
     "output_type": "execute_result"
    }
   ],
   "source": [
    "324/62"
   ]
  },
  {
   "cell_type": "code",
   "execution_count": 29,
   "id": "d0dae65f-b9b4-470a-b77d-46bf42dc2247",
   "metadata": {},
   "outputs": [
    {
     "data": {
      "text/plain": [
       "10.451612903225806"
      ]
     },
     "execution_count": 29,
     "metadata": {},
     "output_type": "execute_result"
    }
   ],
   "source": [
    "((80-62)**2/62)+((44-62)**2/62)"
   ]
  },
  {
   "cell_type": "code",
   "execution_count": 25,
   "id": "e3cfa346-de2c-4317-84b6-962ea2d614e3",
   "metadata": {},
   "outputs": [
    {
     "data": {
      "text/plain": [
       "61"
      ]
     },
     "execution_count": 25,
     "metadata": {},
     "output_type": "execute_result"
    }
   ],
   "source": [
    "124-63"
   ]
  },
  {
   "cell_type": "code",
   "execution_count": 35,
   "id": "6dc434d2-45f5-4e95-95c2-95cdd6616ec4",
   "metadata": {},
   "outputs": [
    {
     "data": {
      "text/plain": [
       "100"
      ]
     },
     "execution_count": 35,
     "metadata": {},
     "output_type": "execute_result"
    }
   ],
   "source": [
    "79+21"
   ]
  },
  {
   "cell_type": "code",
   "execution_count": 37,
   "id": "dc5ffb0e-6051-4799-a72b-7f2d9b379a26",
   "metadata": {},
   "outputs": [
    {
     "data": {
      "text/plain": [
       "38.001599999999996"
      ]
     },
     "execution_count": 37,
     "metadata": {},
     "output_type": "execute_result"
    }
   ],
   "source": [
    "48*0.7917"
   ]
  },
  {
   "cell_type": "code",
   "execution_count": 38,
   "id": "510017b6-a2d8-4d60-9e99-1f8c2d110adf",
   "metadata": {},
   "outputs": [
    {
     "data": {
      "text/plain": [
       "16.333333333333332"
      ]
     },
     "execution_count": 38,
     "metadata": {},
     "output_type": "execute_result"
    }
   ],
   "source": [
    "((38-24)**2/24)+((10-24)**2/24)"
   ]
  },
  {
   "cell_type": "code",
   "execution_count": null,
   "id": "54084b04-2e05-4d5b-a4a1-491f0daca267",
   "metadata": {},
   "outputs": [],
   "source": []
  }
 ],
 "metadata": {
  "kernelspec": {
   "display_name": "Python 3 (ipykernel)",
   "language": "python",
   "name": "python3"
  },
  "language_info": {
   "codemirror_mode": {
    "name": "ipython",
    "version": 3
   },
   "file_extension": ".py",
   "mimetype": "text/x-python",
   "name": "python",
   "nbconvert_exporter": "python",
   "pygments_lexer": "ipython3",
   "version": "3.11.7"
  }
 },
 "nbformat": 4,
 "nbformat_minor": 5
}
