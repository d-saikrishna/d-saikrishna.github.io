{
 "cells": [
  {
   "cell_type": "markdown",
   "id": "65687e2f",
   "metadata": {},
   "source": [
    "# GIS Notebook\n",
    "A collection of all my learnings in GIS and Remote Sensing"
   ]
  },
  {
   "cell_type": "markdown",
   "id": "4a569e62",
   "metadata": {},
   "source": [
    "# Table of Contents\n",
    "1. [Remove watermarks from BHUVAN satellite images](#watermark-remove)"
   ]
  },
  {
   "cell_type": "markdown",
   "id": "702a1d51",
   "metadata": {},
   "source": [
    "## Remove watermarks from BHUVAN satellite images <a class=\"anchor\" id=\"watermark-remove\"></a>"
   ]
  },
  {
   "cell_type": "code",
   "execution_count": 1,
   "id": "3a68dbee",
   "metadata": {},
   "outputs": [],
   "source": [
    "import rasterio\n",
    "from rasterio.crs import CRS"
   ]
  },
  {
   "cell_type": "code",
   "execution_count": 2,
   "id": "c44b57bb",
   "metadata": {},
   "outputs": [],
   "source": [
    "raster = rasterio.open('notebook_data/watermark.tif')\n",
    "raster_array = raster.read()"
   ]
  },
  {
   "cell_type": "markdown",
   "id": "f4ef326f",
   "metadata": {},
   "source": [
    "This tif file has `bhuvan` watermarks as seen in the sample picture. These watermarks mess with any pixel level stats that you might want to calculate.\n",
    "<img src=\"notebook_data/watermark.png\" width=\"400\">\n",
    "\n",
    "I observed that if Band4 is 255 it is definitely a inundated pixel. So I use this observation to remove water mark."
   ]
  },
  {
   "cell_type": "code",
   "execution_count": 3,
   "id": "edaa7b15",
   "metadata": {},
   "outputs": [],
   "source": [
    "#If Band4 is less than 255 - convert it to zero -- uninundated pixel\n",
    "raster_array[3,:,:][(raster_array[3,:,:]<255.0)] = 0\n",
    "#If Band4 is  255 - convert it to 1 -- inundated pixel\n",
    "raster_array[3,:,:][(raster_array[3,:,:]==255.0)] = 1"
   ]
  },
  {
   "cell_type": "code",
   "execution_count": 4,
   "id": "e591407a",
   "metadata": {},
   "outputs": [],
   "source": [
    "# Configure new raster\n",
    "meta = raster.meta\n",
    "meta['compress'] = 'deflate'\n",
    "meta['count'] = 1 #Only one band Band 4 is enough to identify inundation\n",
    "meta['dtype'] = 'uint8'\n",
    "meta['crs'] = CRS.from_epsg(4326)\n",
    "meta['transform'] = raster.transform"
   ]
  },
  {
   "cell_type": "code",
   "execution_count": 5,
   "id": "a07b4611",
   "metadata": {},
   "outputs": [],
   "source": [
    "# Save the modified raster data to a new TIF file.\n",
    "# Only Band 4 is enough to identify inundation - It is written in Band1 of new raster\n",
    "with rasterio.open('notebook_data/watermarkremoved.tif', 'w', **meta) as dst:\n",
    "    dst.write(raster_array[3,:,:], 1)"
   ]
  },
  {
   "cell_type": "markdown",
   "id": "9eeff6f5",
   "metadata": {},
   "source": [
    "Watermark remvoed from the tif\n",
    "<img src=\"notebook_data/watermarkremoved.png\" width=\"400\">"
   ]
  },
  {
   "cell_type": "code",
   "execution_count": null,
   "id": "de12f867",
   "metadata": {},
   "outputs": [],
   "source": []
  }
 ],
 "metadata": {
  "kernelspec": {
   "display_name": "Python 3 (ipykernel)",
   "language": "python",
   "name": "python3"
  },
  "language_info": {
   "codemirror_mode": {
    "name": "ipython",
    "version": 3
   },
   "file_extension": ".py",
   "mimetype": "text/x-python",
   "name": "python",
   "nbconvert_exporter": "python",
   "pygments_lexer": "ipython3",
   "version": "3.9.13"
  }
 },
 "nbformat": 4,
 "nbformat_minor": 5
}
